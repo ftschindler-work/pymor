{
 "cells": [
  {
   "cell_type": "code",
   "execution_count": null,
   "metadata": {
    "lines_to_next_cell": 2
   },
   "outputs": [],
   "source": [
    "from pymor.analyticalproblems.elliptic import StationaryProblem\n",
    "from pymor.discretizers.cg import discretize_stationary_cg\n",
    "from pymor.domaindescriptions.basic import RectDomain\n",
    "from pymor.functions.basic import ExpressionFunction, LincombFunction\n",
    "from pymor.parameters.functionals import ProjectionParameterFunctional, ExpressionParameterFunctional\n",
    "from pymor.parameters.spaces import CubicParameterSpace\n",
    "from time import sleep\n",
    "from ipywidgets import interact, widgets"
   ]
  },
  {
   "cell_type": "code",
   "execution_count": null,
   "metadata": {},
   "outputs": [],
   "source": [
    "rhs = ExpressionFunction('(x[..., 0] - 0.5)**2 * 1000', 2, ())"
   ]
  },
  {
   "cell_type": "code",
   "execution_count": null,
   "metadata": {
    "lines_to_next_cell": 2
   },
   "outputs": [],
   "source": [
    "problem = StationaryProblem(\n",
    "        domain=RectDomain(),\n",
    "        rhs=rhs,\n",
    "        diffusion=LincombFunction(\n",
    "            [ExpressionFunction('1 - x[..., 0]', 2, ()), ExpressionFunction('x[..., 0]', 2, ())],\n",
    "            [ProjectionParameterFunctional('diffusionl', 0), ExpressionParameterFunctional('1', {})]\n",
    "        ),\n",
    "        parameter_space=CubicParameterSpace({'diffusionl': 0}, 0.01, 0.1),\n",
    "        name='2DProblem'\n",
    "    )"
   ]
  },
  {
   "cell_type": "code",
   "execution_count": null,
   "metadata": {
    "lines_to_next_cell": 2,
    "scrolled": true
   },
   "outputs": [],
       "model_id": "f8f8bb816c0449d6bae88185ea9143c6",
       "model_id": "838c67b0427242e68d2a1f690918bd62",
   "source": [
    "args = {'N': 100, 'samples': 10}\n",
    "m, data = discretize_stationary_cg(problem, diameter=1. / args['N'])\n",
    "U = m.solution_space.empty()\n",
    "for mu in m.parameter_space.sample_uniformly(args['samples']):\n",
    "    U.append(m.solve(mu))"
   ]
  },
  {
   "cell_type": "code",
   "execution_count": null,
   "metadata": {},
   "outputs": [],
       "model_id": "cd7b4a7bcddc4731aa7ed7e5903139db",
       "model_id": "169374e3a7ee47a2b81d70306985ba49",
   "source": [
    "plot = m.visualize(U, title='Solution for diffusionl=0.5')\n"
   ]
  }
 ],
 "metadata": {
  "jupytext": {
   "formats": "ipynb,py:percent"
  },
  "kernelspec": {
   "display_name": "Python 3",
   "language": "python",
   "name": "python3"
  },
  "language_info": {
   "codemirror_mode": {
    "name": "ipython",
    "version": 3
   },
   "file_extension": ".py",
   "mimetype": "text/x-python",
   "name": "python",
   "nbconvert_exporter": "python",
   "pygments_lexer": "ipython3",
   "version": "3.7.1"
  }
 },
 "nbformat": 4,
 "nbformat_minor": 2
}
