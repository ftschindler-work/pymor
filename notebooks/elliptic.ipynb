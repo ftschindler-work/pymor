{
 "cells": [
  {
   "cell_type": "code",
   "execution_count": null,
   "metadata": {},
   "outputs": [],
   "source": [
    "from pymor.analyticalproblems.elliptic import StationaryProblem\n",
    "from pymor.discretizers.cg import discretize_stationary_cg\n",
    "from pymor.domaindescriptions.basic import RectDomain\n",
    "from pymor.functions.basic import ExpressionFunction, LincombFunction\n",
    "from pymor.parameters.functionals import ProjectionParameterFunctional, ExpressionParameterFunctional\n",
    "from pymor.parameters.spaces import CubicParameterSpace\n",
    "from pymor.gui.jupyter import visualize_k3d\n"
   ]
  },
  {
   "cell_type": "code",
   "execution_count": null,
   "metadata": {},
   "outputs": [],
   "source": [
    "rhs = ExpressionFunction('(x[..., 0] - 0.5)**2 * 1000', 2, ())"
   ]
  },
  {
   "cell_type": "code",
   "execution_count": null,
   "metadata": {},
   "outputs": [],
   "source": [
    "problem = StationaryProblem(\n",
    "        domain=RectDomain(),\n",
    "        rhs=rhs,\n",
    "        diffusion=LincombFunction(\n",
    "            [ExpressionFunction('1 - x[..., 0]', 2, ()), ExpressionFunction('x[..., 0]', 2, ())],\n",
    "            [ProjectionParameterFunctional('diffusionl', 0), ExpressionParameterFunctional('1', {})]\n",
    "        ),\n",
    "        parameter_space=CubicParameterSpace({'diffusionl': 0}, 0.1, 1),\n",
    "        name='2DProblem'\n",
    "    )\n"
   ]
  },
  {
   "cell_type": "code",
   "execution_count": null,
   "metadata": {
    "scrolled": false
   },
   "outputs": [],
   "source": [
    "args = {'N': 10}\n",
    "m, data = discretize_stationary_cg(problem, diameter=1. / args['N'])\n",
    "U = m.solve(0.5)\n",
    "m.visualize(U, title='Solution for diffusionl=0.5')\n",
    "    "
   ]
  },
  {
   "cell_type": "code",
   "execution_count": null,
   "metadata": {},
   "outputs": [],
   "source": []
  }
 ],
 "metadata": {
  "kernelspec": {
   "display_name": "Python 3",
   "language": "python",
   "name": "python3"
  },
  "language_info": {
   "codemirror_mode": {
    "name": "ipython",
    "version": 3
   },
   "file_extension": ".py",
   "mimetype": "text/x-python",
   "name": "python",
   "nbconvert_exporter": "python",
   "pygments_lexer": "ipython3",
   "version": "3.7.1"
  }
 },
 "nbformat": 4,
 "nbformat_minor": 1
}
